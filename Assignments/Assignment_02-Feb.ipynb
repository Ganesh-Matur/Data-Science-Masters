{
 "cells": [
  {
   "cell_type": "markdown",
   "id": "7e1d4bd0-2a97-479a-ad64-e9d62695e4bf",
   "metadata": {},
   "source": [
    "Q1. What are the characteristics of the tuples? Is tuple immutable?"
   ]
  },
  {
   "cell_type": "markdown",
   "id": "9d5707c8-2b21-4ab3-9653-6766b2f68298",
   "metadata": {},
   "source": [
    "--> Tuples are one of the built-in data types used to store collections of data.\n",
    "\n",
    "The charateristics of the tuple items are \n",
    "* Ordered\n",
    "* Immutable \n",
    "* Heterogeneous\n",
    "* Iterable\n",
    "* Hashable and \n",
    "* Limited functionality. \n",
    "\n",
    "Yes, tuple is immutable once it is created, its contents cannot be changed. \n"
   ]
  },
  {
   "cell_type": "markdown",
   "id": "9ec37105-ec68-492f-8bf4-09e7916bd3b6",
   "metadata": {},
   "source": [
    "Q2. What are the two tuple methods in python? Give an example of each method. Give a reason why tuples have only two in-built methods as compared to Lists."
   ]
  },
  {
   "cell_type": "markdown",
   "id": "0018d0f6-2246-428a-beed-f0dc2b055ff4",
   "metadata": {},
   "source": [
    "--> count() and index() are two tuple methods in Python.\n",
    "\n",
    "count(): method returns the number of times a specified value appears in the tuple."
   ]
  },
  {
   "cell_type": "code",
   "execution_count": 14,
   "id": "e7a8822d-4948-402d-8edc-b59d52da6331",
   "metadata": {},
   "outputs": [
    {
     "data": {
      "text/plain": [
       "4"
      ]
     },
     "execution_count": 14,
     "metadata": {},
     "output_type": "execute_result"
    }
   ],
   "source": [
    "#Example\n",
    "tuple1 = (1, 2, 6, 4, 5, 6, 8, 3, 6, 6)\n",
    "tuple1.count(6)"
   ]
  },
  {
   "cell_type": "markdown",
   "id": "7b1919b0-210f-4b12-b9ab-febde156bdcd",
   "metadata": {},
   "source": [
    "index(): method returns the first occurrence of the specified value."
   ]
  },
  {
   "cell_type": "code",
   "execution_count": 15,
   "id": "8a22ec25-e6ff-438f-aaf5-879164d1ffa7",
   "metadata": {},
   "outputs": [
    {
     "data": {
      "text/plain": [
       "2"
      ]
     },
     "execution_count": 15,
     "metadata": {},
     "output_type": "execute_result"
    }
   ],
   "source": [
    "#Example\n",
    "tuple2 = (1, 2, 6, 4, 5, 6, 8, 3, 6, 6)\n",
    "tuple2.index(6)"
   ]
  },
  {
   "cell_type": "markdown",
   "id": "66bce878-46b3-44fb-a60c-738231224bd4",
   "metadata": {},
   "source": [
    "Tuples have only two built-in methods in Python because they are designed to be immutable, and therefore, they do not need many of the methods that are available for lists."
   ]
  },
  {
   "cell_type": "markdown",
   "id": "38ebd495-c8cd-4679-90f3-3d380f59da53",
   "metadata": {},
   "source": [
    "Q3. Which collection datatypes in python do not allow duplicate items? Write a code using a set to remove duplicates from the given list. \n",
    "\n",
    "List = [1, 1, 1, 2, 1, 3, 1, 4, 2, 1, 2, 2, 2, 3, 2, 4, 3, 1, 3, 2, 3, 3, 3, 4, 4, 1, 4, 2, 4, 3, 4, 4]"
   ]
  },
  {
   "cell_type": "markdown",
   "id": "a094ba5f-fe2e-4653-9238-3c5a86d0693d",
   "metadata": {},
   "source": [
    "--> set{ } data type do not allow duplicate of items."
   ]
  },
  {
   "cell_type": "code",
   "execution_count": 17,
   "id": "e8d130ed-7fb4-437b-849c-5da488d0844d",
   "metadata": {},
   "outputs": [
    {
     "name": "stdout",
     "output_type": "stream",
     "text": [
      "{1, 2, 3, 4}\n"
     ]
    }
   ],
   "source": [
    "List = [1, 1, 1, 2, 1, 3, 1, 4, 2, 1, 2, 2, 2, 3, 2, 4, 3, 1, 3, 2, 3, 3, 3, 4, 4, 1, 4, 2, 4, 3, 4, 4]\n",
    "x = set(List)\n",
    "print(x)"
   ]
  },
  {
   "cell_type": "markdown",
   "id": "9bf49787-fc6d-4151-9f0d-f16095eac4f5",
   "metadata": {},
   "source": [
    "Q4. Explain the difference between the union() and update() methods for a set. Give an example of each method."
   ]
  },
  {
   "cell_type": "markdown",
   "id": "f0a30fab-e400-4d64-9927-78b99897b220",
   "metadata": {},
   "source": [
    "--> \n",
    "\n",
    "1. union(): \n",
    "- This method returns a new set that contains all the unique elements from both the sets. The original sets remain unchanged. \n",
    "- This method can take any iterable as an argument."
   ]
  },
  {
   "cell_type": "code",
   "execution_count": 16,
   "id": "0b2e35c3-14e6-48d6-89f3-63d46df37260",
   "metadata": {},
   "outputs": [
    {
     "name": "stdout",
     "output_type": "stream",
     "text": [
      "{1, 2, 3, 4, 5, 6}\n"
     ]
    }
   ],
   "source": [
    "#Example\n",
    "set1 = {1,2,3,4}\n",
    "set2 = {3,4,5,6}\n",
    "set3 = set1.union(set2)\n",
    "print(set3)"
   ]
  },
  {
   "cell_type": "markdown",
   "id": "58f3679f-0469-4c47-9281-e9fb49ef38d4",
   "metadata": {},
   "source": [
    "2. update(): \n",
    "- This method modifies the set in place by adding all the elements from another set.\n",
    "- This method requires a set as an argument"
   ]
  },
  {
   "cell_type": "code",
   "execution_count": 17,
   "id": "19886711-45d1-4084-8845-4c411722d1fb",
   "metadata": {},
   "outputs": [
    {
     "name": "stdout",
     "output_type": "stream",
     "text": [
      "{1, 2, 3, 4, 5, 6}\n"
     ]
    }
   ],
   "source": [
    "#Example\n",
    "set4 = {1,2,3,4}\n",
    "set5 = {3,4,5,6}\n",
    "set4.update(set5)\n",
    "print(set4)"
   ]
  },
  {
   "cell_type": "markdown",
   "id": "17c398e8-d899-477a-bf31-fc9563ff8af7",
   "metadata": {},
   "source": [
    "So, the key difference between union() and update() methods is that union() returns a new set, while update() modifies the set in place."
   ]
  },
  {
   "cell_type": "markdown",
   "id": "ab2332d3-6cb0-4aab-a62a-d0cab54193da",
   "metadata": {},
   "source": [
    "Q5. What is a dictionary? Give an example. Also, state whether a dictionary is ordered or unordered."
   ]
  },
  {
   "cell_type": "markdown",
   "id": "082ce4a6-7de6-4d2c-a517-5db6ccfbad0d",
   "metadata": {},
   "source": [
    "--> A dictionary is a collection data types that stores a collection of key-value pairs. Each key-value pair is called an item, and the keys are unique and immutable while the values can be of any data type. Dictionaries are represented using curly braces {} and each item is separated by a comma.\n",
    "\n",
    "A dictionary is a collection which is unordered, changeable and do not allow duplicate keys."
   ]
  },
  {
   "cell_type": "code",
   "execution_count": 18,
   "id": "0175856a-c3f9-4194-8b0f-4024ba662bdc",
   "metadata": {},
   "outputs": [
    {
     "name": "stdout",
     "output_type": "stream",
     "text": [
      "{'title': 'KGF', 'director': 'Prashanth Neel', 'year': 2018, 'cast': ['Yash', 'Srinidhi Shetty', 'Anant Nag'], 'ratings': {'IMDb': 8.2, 'Times of India': 4}}\n"
     ]
    }
   ],
   "source": [
    "#Example\n",
    "\n",
    "movie = {\n",
    "    \"title\": \"KGF\",\n",
    "    \"director\": \"Prashanth Neel\",\n",
    "    \"year\": 2018,\n",
    "    \"cast\": [\"Yash\", \"Srinidhi Shetty\", \"Anant Nag\"],\n",
    "    \"ratings\": {\"IMDb\": 8.2, \"Times of India\": 4,}\n",
    "}\n",
    "print(movie)"
   ]
  },
  {
   "cell_type": "markdown",
   "id": "e883959e-a75b-420c-8990-2314f5e7fea0",
   "metadata": {},
   "source": [
    "Q6. Can we create a nested dictionary? If so, please give an example by creating a simple one-level nested dictionary."
   ]
  },
  {
   "cell_type": "markdown",
   "id": "292b9d82-0d32-405d-904b-5f09b850ae97",
   "metadata": {},
   "source": [
    "--> Yes, we can create a nested dictionary. "
   ]
  },
  {
   "cell_type": "code",
   "execution_count": 7,
   "id": "d5ae98ea-8f54-4b19-988f-af5d69a0bfa9",
   "metadata": {},
   "outputs": [],
   "source": [
    "#Example\n",
    "student = {\"student1\": {\"name\": \"Arun\", \"age\": 23, \"gender\": \"male\", \"address\": {\"area\": \"BSK Layout\", \"city\": \"Mumbai\", \"pincode\": 12345}}}"
   ]
  },
  {
   "cell_type": "code",
   "execution_count": 8,
   "id": "727e3e18-142e-4bc8-bf82-522c55682684",
   "metadata": {},
   "outputs": [
    {
     "data": {
      "text/plain": [
       "{'student1': {'name': 'Arun',\n",
       "  'age': 23,\n",
       "  'gender': 'male',\n",
       "  'address': {'area': 'BSK Layout', 'city': 'Mumbai', 'pincode': 12345}}}"
      ]
     },
     "execution_count": 8,
     "metadata": {},
     "output_type": "execute_result"
    }
   ],
   "source": [
    "student"
   ]
  },
  {
   "cell_type": "markdown",
   "id": "7507d762-9d77-4847-a450-6e036b831ef6",
   "metadata": {},
   "source": [
    "Q7. Using setdefault() method, create key named topics in the given dictionary and also add the value of the key as this list ['Python', 'Machine Learning’, 'Deep Learning']\n",
    "\n",
    "dict1 = {'language' : 'Python', 'course': 'Data Science Masters'}\n",
    "\n",
    "--> The setdefault() method returns the value of the item with the specified key. If the key does not exist, insert the key, with the specified value,"
   ]
  },
  {
   "cell_type": "code",
   "execution_count": 16,
   "id": "fd843f5e-0d48-4dd8-ac8f-7b2b0c32f1ea",
   "metadata": {},
   "outputs": [
    {
     "name": "stdout",
     "output_type": "stream",
     "text": [
      "{'language': 'Python', 'course': 'Data Science Masters', 'topics': \"['Python', 'Machine Learning’, 'Deep Learning']\"}\n"
     ]
    }
   ],
   "source": [
    "dict1 = {'language': 'Python', 'course': 'Data Science Masters'}\n",
    "dict1.setdefault(\"topics\", \"['Python', 'Machine Learning’, 'Deep Learning']\")\n",
    "print(dict1)"
   ]
  },
  {
   "cell_type": "markdown",
   "id": "5472f326-d76b-46b4-89e6-1a8c76285bde",
   "metadata": {},
   "source": [
    "Q8. What are the three view objects in dictionaries? Use the three in-built methods in python to display these three view objects for the given dictionary.\n",
    "\n",
    "dict2 = {'Sport': 'Cricket' , 'Teams': ['India', 'Australia', 'England', 'South Africa', 'Sri Lanka', 'New Zealand']}\n",
    "\n",
    "--> The three view objects in dictionaries are:\n",
    "\n",
    "* keys()\n",
    "* values()\n",
    "* items()\n"
   ]
  },
  {
   "cell_type": "code",
   "execution_count": 37,
   "id": "20f30da4-2111-4231-91d0-d62e16e2e3bf",
   "metadata": {},
   "outputs": [
    {
     "name": "stdout",
     "output_type": "stream",
     "text": [
      "dict_keys(['Sport', 'Teams'])\n",
      "dict_values(['Cricket', ['India', 'Australia', 'England', 'South Africa', 'Sri Lanka', 'New Zealand']])\n",
      "dict_items([('Sport', 'Cricket'), ('Teams', ['India', 'Australia', 'England', 'South Africa', 'Sri Lanka', 'New Zealand'])])\n"
     ]
    }
   ],
   "source": [
    "dict2 = {'Sport': 'Cricket' , 'Teams': ['India', 'Australia', 'England', 'South Africa', 'Sri Lanka', 'New Zealand']}\n",
    "keys = dict2.keys()\n",
    "values = dict2.values()\n",
    "key_value = dict2.items()\n",
    "print(keys)\n",
    "print(values)\n",
    "print(key_value)"
   ]
  }
 ],
 "metadata": {
  "kernelspec": {
   "display_name": "Python 3 (ipykernel)",
   "language": "python",
   "name": "python3"
  },
  "language_info": {
   "codemirror_mode": {
    "name": "ipython",
    "version": 3
   },
   "file_extension": ".py",
   "mimetype": "text/x-python",
   "name": "python",
   "nbconvert_exporter": "python",
   "pygments_lexer": "ipython3",
   "version": "3.10.8"
  }
 },
 "nbformat": 4,
 "nbformat_minor": 5
}
